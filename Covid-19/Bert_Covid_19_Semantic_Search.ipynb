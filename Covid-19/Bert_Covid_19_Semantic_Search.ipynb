{
  "nbformat": 4,
  "nbformat_minor": 0,
  "metadata": {
    "colab": {
      "name": "Bert-Covid 19 Semantic Search.ipynb",
      "provenance": [],
      "machine_shape": "hm"
    },
    "kernelspec": {
      "name": "python3",
      "display_name": "Python 3"
    }
  },
  "cells": [
    {
      "cell_type": "code",
      "metadata": {
        "id": "7jna8ttzPGgy",
        "colab_type": "code",
        "colab": {
          "base_uri": "https://localhost:8080/",
          "height": 883
        },
        "outputId": "05e38f19-4297-4ded-e743-c221c22aceb6"
      },
      "source": [
        "!pip install -U sentence-transformers"
      ],
      "execution_count": 28,
      "outputs": [
        {
          "output_type": "stream",
          "text": [
            "Collecting sentence-transformers\n",
            "\u001b[?25l  Downloading https://files.pythonhosted.org/packages/b9/46/b7d6c37d92d1bd65319220beabe4df845434930e3f30e42d3cfaecb74dc4/sentence-transformers-0.2.6.1.tar.gz (55kB)\n",
            "\u001b[K     |████████████████████████████████| 61kB 1.9MB/s \n",
            "\u001b[?25hCollecting transformers>=2.8.0\n",
            "\u001b[?25l  Downloading https://files.pythonhosted.org/packages/a3/78/92cedda05552398352ed9784908b834ee32a0bd071a9b32de287327370b7/transformers-2.8.0-py3-none-any.whl (563kB)\n",
            "\u001b[K     |████████████████████████████████| 573kB 7.4MB/s \n",
            "\u001b[?25hRequirement already satisfied, skipping upgrade: tqdm in /usr/local/lib/python3.6/dist-packages (from sentence-transformers) (4.38.0)\n",
            "Requirement already satisfied, skipping upgrade: torch>=1.0.1 in /usr/local/lib/python3.6/dist-packages (from sentence-transformers) (1.5.0+cu101)\n",
            "Requirement already satisfied, skipping upgrade: numpy in /usr/local/lib/python3.6/dist-packages (from sentence-transformers) (1.18.3)\n",
            "Requirement already satisfied, skipping upgrade: scikit-learn in /usr/local/lib/python3.6/dist-packages (from sentence-transformers) (0.22.2.post1)\n",
            "Requirement already satisfied, skipping upgrade: scipy in /usr/local/lib/python3.6/dist-packages (from sentence-transformers) (1.4.1)\n",
            "Requirement already satisfied, skipping upgrade: nltk in /usr/local/lib/python3.6/dist-packages (from sentence-transformers) (3.2.5)\n",
            "Collecting sentencepiece\n",
            "\u001b[?25l  Downloading https://files.pythonhosted.org/packages/98/2c/8df20f3ac6c22ac224fff307ebc102818206c53fc454ecd37d8ac2060df5/sentencepiece-0.1.86-cp36-cp36m-manylinux1_x86_64.whl (1.0MB)\n",
            "\u001b[K     |████████████████████████████████| 1.0MB 24.7MB/s \n",
            "\u001b[?25hRequirement already satisfied, skipping upgrade: dataclasses; python_version < \"3.7\" in /usr/local/lib/python3.6/dist-packages (from transformers>=2.8.0->sentence-transformers) (0.7)\n",
            "Requirement already satisfied, skipping upgrade: boto3 in /usr/local/lib/python3.6/dist-packages (from transformers>=2.8.0->sentence-transformers) (1.12.46)\n",
            "Requirement already satisfied, skipping upgrade: regex!=2019.12.17 in /usr/local/lib/python3.6/dist-packages (from transformers>=2.8.0->sentence-transformers) (2019.12.20)\n",
            "Collecting sacremoses\n",
            "\u001b[?25l  Downloading https://files.pythonhosted.org/packages/99/50/93509f906a40bffd7d175f97fd75ea328ad9bd91f48f59c4bd084c94a25e/sacremoses-0.0.41.tar.gz (883kB)\n",
            "\u001b[K     |████████████████████████████████| 890kB 27.3MB/s \n",
            "\u001b[?25hRequirement already satisfied, skipping upgrade: filelock in /usr/local/lib/python3.6/dist-packages (from transformers>=2.8.0->sentence-transformers) (3.0.12)\n",
            "Collecting tokenizers==0.5.2\n",
            "\u001b[?25l  Downloading https://files.pythonhosted.org/packages/d1/3f/73c881ea4723e43c1e9acf317cf407fab3a278daab3a69c98dcac511c04f/tokenizers-0.5.2-cp36-cp36m-manylinux1_x86_64.whl (3.7MB)\n",
            "\u001b[K     |████████████████████████████████| 3.7MB 43.6MB/s \n",
            "\u001b[?25hRequirement already satisfied, skipping upgrade: requests in /usr/local/lib/python3.6/dist-packages (from transformers>=2.8.0->sentence-transformers) (2.21.0)\n",
            "Requirement already satisfied, skipping upgrade: future in /usr/local/lib/python3.6/dist-packages (from torch>=1.0.1->sentence-transformers) (0.16.0)\n",
            "Requirement already satisfied, skipping upgrade: joblib>=0.11 in /usr/local/lib/python3.6/dist-packages (from scikit-learn->sentence-transformers) (0.14.1)\n",
            "Requirement already satisfied, skipping upgrade: six in /usr/local/lib/python3.6/dist-packages (from nltk->sentence-transformers) (1.12.0)\n",
            "Requirement already satisfied, skipping upgrade: botocore<1.16.0,>=1.15.46 in /usr/local/lib/python3.6/dist-packages (from boto3->transformers>=2.8.0->sentence-transformers) (1.15.46)\n",
            "Requirement already satisfied, skipping upgrade: s3transfer<0.4.0,>=0.3.0 in /usr/local/lib/python3.6/dist-packages (from boto3->transformers>=2.8.0->sentence-transformers) (0.3.3)\n",
            "Requirement already satisfied, skipping upgrade: jmespath<1.0.0,>=0.7.1 in /usr/local/lib/python3.6/dist-packages (from boto3->transformers>=2.8.0->sentence-transformers) (0.9.5)\n",
            "Requirement already satisfied, skipping upgrade: click in /usr/local/lib/python3.6/dist-packages (from sacremoses->transformers>=2.8.0->sentence-transformers) (7.1.1)\n",
            "Requirement already satisfied, skipping upgrade: certifi>=2017.4.17 in /usr/local/lib/python3.6/dist-packages (from requests->transformers>=2.8.0->sentence-transformers) (2020.4.5.1)\n",
            "Requirement already satisfied, skipping upgrade: chardet<3.1.0,>=3.0.2 in /usr/local/lib/python3.6/dist-packages (from requests->transformers>=2.8.0->sentence-transformers) (3.0.4)\n",
            "Requirement already satisfied, skipping upgrade: urllib3<1.25,>=1.21.1 in /usr/local/lib/python3.6/dist-packages (from requests->transformers>=2.8.0->sentence-transformers) (1.24.3)\n",
            "Requirement already satisfied, skipping upgrade: idna<2.9,>=2.5 in /usr/local/lib/python3.6/dist-packages (from requests->transformers>=2.8.0->sentence-transformers) (2.8)\n",
            "Requirement already satisfied, skipping upgrade: python-dateutil<3.0.0,>=2.1 in /usr/local/lib/python3.6/dist-packages (from botocore<1.16.0,>=1.15.46->boto3->transformers>=2.8.0->sentence-transformers) (2.8.1)\n",
            "Requirement already satisfied, skipping upgrade: docutils<0.16,>=0.10 in /usr/local/lib/python3.6/dist-packages (from botocore<1.16.0,>=1.15.46->boto3->transformers>=2.8.0->sentence-transformers) (0.15.2)\n",
            "Building wheels for collected packages: sentence-transformers, sacremoses\n",
            "  Building wheel for sentence-transformers (setup.py) ... \u001b[?25l\u001b[?25hdone\n",
            "  Created wheel for sentence-transformers: filename=sentence_transformers-0.2.6.1-cp36-none-any.whl size=74031 sha256=bc93f46ce6ba32b884353a4553aa367e869548f036b8e84d814f636fed676e1a\n",
            "  Stored in directory: /root/.cache/pip/wheels/d7/fa/17/2b081a8cd8b0a86753fb0e9826b3cc19f0207062c0b2da7008\n",
            "  Building wheel for sacremoses (setup.py) ... \u001b[?25l\u001b[?25hdone\n",
            "  Created wheel for sacremoses: filename=sacremoses-0.0.41-cp36-none-any.whl size=893334 sha256=ac1df3db5d5349e6e7139fbd6cce063b44c395b53a1e017313d40e8c6f10c49d\n",
            "  Stored in directory: /root/.cache/pip/wheels/22/5a/d4/b020a81249de7dc63758a34222feaa668dbe8ebfe9170cc9b1\n",
            "Successfully built sentence-transformers sacremoses\n",
            "Installing collected packages: sentencepiece, sacremoses, tokenizers, transformers, sentence-transformers\n",
            "Successfully installed sacremoses-0.0.41 sentence-transformers-0.2.6.1 sentencepiece-0.1.86 tokenizers-0.5.2 transformers-2.8.0\n"
          ],
          "name": "stdout"
        }
      ]
    },
    {
      "cell_type": "code",
      "metadata": {
        "id": "kNJKyl2VPZR_",
        "colab_type": "code",
        "colab": {
          "base_uri": "https://localhost:8080/",
          "height": 517
        },
        "outputId": "2c675821-8a77-45e0-8b1c-cf68cdbd770c"
      },
      "source": [
        "### read dataframe after preprocessing\n",
        "import pandas as pd\n",
        "df = pd.read_csv('/content/drive/My Drive/Deep Learning Data/Covid-19 Text Mining/clean_df.csv', index_col = 0)\n",
        "df.head()"
      ],
      "execution_count": 4,
      "outputs": [
        {
          "output_type": "execute_result",
          "data": {
            "text/html": [
              "<div>\n",
              "<style scoped>\n",
              "    .dataframe tbody tr th:only-of-type {\n",
              "        vertical-align: middle;\n",
              "    }\n",
              "\n",
              "    .dataframe tbody tr th {\n",
              "        vertical-align: top;\n",
              "    }\n",
              "\n",
              "    .dataframe thead th {\n",
              "        text-align: right;\n",
              "    }\n",
              "</style>\n",
              "<table border=\"1\" class=\"dataframe\">\n",
              "  <thead>\n",
              "    <tr style=\"text-align: right;\">\n",
              "      <th></th>\n",
              "      <th>paper_id</th>\n",
              "      <th>doi</th>\n",
              "      <th>abstract</th>\n",
              "      <th>body_text</th>\n",
              "      <th>authors</th>\n",
              "      <th>title</th>\n",
              "      <th>journal</th>\n",
              "      <th>abstract_summary</th>\n",
              "      <th>abstract_word_count</th>\n",
              "      <th>body_word_count</th>\n",
              "      <th>body_unique_words</th>\n",
              "      <th>language</th>\n",
              "      <th>processed_text</th>\n",
              "    </tr>\n",
              "  </thead>\n",
              "  <tbody>\n",
              "    <tr>\n",
              "      <th>0</th>\n",
              "      <td>c1a29945f51707d279560855da521ea878989333</td>\n",
              "      <td>10.1126/sciadv.aav4580</td>\n",
              "      <td>Continuously emerging highly pathogenic human ...</td>\n",
              "      <td>Coronaviruses (CoVs) are enveloped viruses wit...</td>\n",
              "      <td>Xia, Shuai.  Yan, Lei.  Xu, Wei.  Agrawal, An...</td>\n",
              "      <td>A pan-coronavirus fusion inhibitor targeting&lt;...</td>\n",
              "      <td>Sci Adv</td>\n",
              "      <td>Continuously emerging highly pathogenic&lt;br&gt;hu...</td>\n",
              "      <td>150</td>\n",
              "      <td>9082</td>\n",
              "      <td>2521</td>\n",
              "      <td>en</td>\n",
              "      <td>coronaviruses covs envelop virus positive-sens...</td>\n",
              "    </tr>\n",
              "    <tr>\n",
              "      <th>1</th>\n",
              "      <td>de4399a1034294c5aecf4f318fd99ca559a762ea</td>\n",
              "      <td>10.7774/cevr.2019.8.1.86</td>\n",
              "      <td>NaN</td>\n",
              "      <td>No potential conflict of interest relevant to ...</td>\n",
              "      <td>Choi, Jun Yong.  Oh, Jin Ok.  Ahn, Jin Young....</td>\n",
              "      <td>Absence of neutralizing activity in serum 1&lt;b...</td>\n",
              "      <td>Clin Exp Vaccine Res</td>\n",
              "      <td>Not provided.</td>\n",
              "      <td>0</td>\n",
              "      <td>1060</td>\n",
              "      <td>472</td>\n",
              "      <td>en</td>\n",
              "      <td>potential conflict interest relevant article r...</td>\n",
              "    </tr>\n",
              "    <tr>\n",
              "      <th>2</th>\n",
              "      <td>1a2900a53677a6c68ff37167c31ca33ad219acdb</td>\n",
              "      <td>10.4142/jvs.2015.16.4.431</td>\n",
              "      <td>Monoclonal anti-enrofloxacin antibody was prep...</td>\n",
              "      <td>Fluoroquinolones (FQs) have been widely used a...</td>\n",
              "      <td>Kim, Nam-Gun.  Kim, Myeong-Ae.  Park, Young-I...</td>\n",
              "      <td>Magnetic nanoparticle based purification and&lt;...</td>\n",
              "      <td>J Vet Sci</td>\n",
              "      <td>Monoclonal anti-enrofloxacin antibody was&lt;br&gt;...</td>\n",
              "      <td>188</td>\n",
              "      <td>2589</td>\n",
              "      <td>1048</td>\n",
              "      <td>en</td>\n",
              "      <td>fluoroquinolones fqs widely use human veterina...</td>\n",
              "    </tr>\n",
              "    <tr>\n",
              "      <th>3</th>\n",
              "      <td>61d252869a226c4393e4637cb90fa3b4df082ae3</td>\n",
              "      <td>10.1136/bmjopen-2015-010302</td>\n",
              "      <td>NaN</td>\n",
              "      <td>Fever in the returned traveller is a common sy...</td>\n",
              "      <td>Jazuli, Farah.  Lynd, Terence.  Mah, Jordan. ...</td>\n",
              "      <td>Evaluation of a programme for ‘Rapid&lt;br&gt;Asses...</td>\n",
              "      <td>BMJ Open</td>\n",
              "      <td>Not provided.</td>\n",
              "      <td>0</td>\n",
              "      <td>4099</td>\n",
              "      <td>1546</td>\n",
              "      <td>en</td>\n",
              "      <td>fever return traveller common syndrome occur 1...</td>\n",
              "    </tr>\n",
              "    <tr>\n",
              "      <th>4</th>\n",
              "      <td>4593d1ecbaa167a2d3e910ccc986f5c4b5ecbbc8</td>\n",
              "      <td>10.1093/epirev/mxz012</td>\n",
              "      <td>The Coalition for Epidemic Preparedness Innova...</td>\n",
              "      <td>In recent decades, the world has been shaken b...</td>\n",
              "      <td>Gouglas, Dimitrios.  Christodoulou, Mario. &lt;b...</td>\n",
              "      <td>CEPI: Driving Progress Toward Epidemic&lt;br&gt;Pre...</td>\n",
              "      <td>Epidemiol Rev</td>\n",
              "      <td>The Coalition for Epidemic Preparedness&lt;br&gt;In...</td>\n",
              "      <td>211</td>\n",
              "      <td>2585</td>\n",
              "      <td>1018</td>\n",
              "      <td>en</td>\n",
              "      <td>recent decade world shake emergence spread new...</td>\n",
              "    </tr>\n",
              "  </tbody>\n",
              "</table>\n",
              "</div>"
            ],
            "text/plain": [
              "                                   paper_id  ...                                     processed_text\n",
              "0  c1a29945f51707d279560855da521ea878989333  ...  coronaviruses covs envelop virus positive-sens...\n",
              "1  de4399a1034294c5aecf4f318fd99ca559a762ea  ...  potential conflict interest relevant article r...\n",
              "2  1a2900a53677a6c68ff37167c31ca33ad219acdb  ...  fluoroquinolones fqs widely use human veterina...\n",
              "3  61d252869a226c4393e4637cb90fa3b4df082ae3  ...  fever return traveller common syndrome occur 1...\n",
              "4  4593d1ecbaa167a2d3e910ccc986f5c4b5ecbbc8  ...  recent decade world shake emergence spread new...\n",
              "\n",
              "[5 rows x 13 columns]"
            ]
          },
          "metadata": {
            "tags": []
          },
          "execution_count": 4
        }
      ]
    },
    {
      "cell_type": "code",
      "metadata": {
        "id": "S_kZPJUUQdm8",
        "colab_type": "code",
        "colab": {}
      },
      "source": [
        "### We are gonna use the abstract as summarization of papers, thus we need to further remove the NaN\n",
        "df = df.dropna()"
      ],
      "execution_count": 0,
      "outputs": []
    },
    {
      "cell_type": "code",
      "metadata": {
        "id": "apdSu4PIRBCU",
        "colab_type": "code",
        "colab": {
          "base_uri": "https://localhost:8080/",
          "height": 551
        },
        "outputId": "89c5317c-766e-4ecf-f33d-972ac4798f4a"
      },
      "source": [
        "df.head()"
      ],
      "execution_count": 7,
      "outputs": [
        {
          "output_type": "execute_result",
          "data": {
            "text/html": [
              "<div>\n",
              "<style scoped>\n",
              "    .dataframe tbody tr th:only-of-type {\n",
              "        vertical-align: middle;\n",
              "    }\n",
              "\n",
              "    .dataframe tbody tr th {\n",
              "        vertical-align: top;\n",
              "    }\n",
              "\n",
              "    .dataframe thead th {\n",
              "        text-align: right;\n",
              "    }\n",
              "</style>\n",
              "<table border=\"1\" class=\"dataframe\">\n",
              "  <thead>\n",
              "    <tr style=\"text-align: right;\">\n",
              "      <th></th>\n",
              "      <th>paper_id</th>\n",
              "      <th>doi</th>\n",
              "      <th>abstract</th>\n",
              "      <th>body_text</th>\n",
              "      <th>authors</th>\n",
              "      <th>title</th>\n",
              "      <th>journal</th>\n",
              "      <th>abstract_summary</th>\n",
              "      <th>abstract_word_count</th>\n",
              "      <th>body_word_count</th>\n",
              "      <th>body_unique_words</th>\n",
              "      <th>language</th>\n",
              "      <th>processed_text</th>\n",
              "    </tr>\n",
              "  </thead>\n",
              "  <tbody>\n",
              "    <tr>\n",
              "      <th>0</th>\n",
              "      <td>c1a29945f51707d279560855da521ea878989333</td>\n",
              "      <td>10.1126/sciadv.aav4580</td>\n",
              "      <td>Continuously emerging highly pathogenic human ...</td>\n",
              "      <td>Coronaviruses (CoVs) are enveloped viruses wit...</td>\n",
              "      <td>Xia, Shuai.  Yan, Lei.  Xu, Wei.  Agrawal, An...</td>\n",
              "      <td>A pan-coronavirus fusion inhibitor targeting&lt;...</td>\n",
              "      <td>Sci Adv</td>\n",
              "      <td>Continuously emerging highly pathogenic&lt;br&gt;hu...</td>\n",
              "      <td>150</td>\n",
              "      <td>9082</td>\n",
              "      <td>2521</td>\n",
              "      <td>en</td>\n",
              "      <td>coronaviruses covs envelop virus positive-sens...</td>\n",
              "    </tr>\n",
              "    <tr>\n",
              "      <th>2</th>\n",
              "      <td>1a2900a53677a6c68ff37167c31ca33ad219acdb</td>\n",
              "      <td>10.4142/jvs.2015.16.4.431</td>\n",
              "      <td>Monoclonal anti-enrofloxacin antibody was prep...</td>\n",
              "      <td>Fluoroquinolones (FQs) have been widely used a...</td>\n",
              "      <td>Kim, Nam-Gun.  Kim, Myeong-Ae.  Park, Young-I...</td>\n",
              "      <td>Magnetic nanoparticle based purification and&lt;...</td>\n",
              "      <td>J Vet Sci</td>\n",
              "      <td>Monoclonal anti-enrofloxacin antibody was&lt;br&gt;...</td>\n",
              "      <td>188</td>\n",
              "      <td>2589</td>\n",
              "      <td>1048</td>\n",
              "      <td>en</td>\n",
              "      <td>fluoroquinolones fqs widely use human veterina...</td>\n",
              "    </tr>\n",
              "    <tr>\n",
              "      <th>4</th>\n",
              "      <td>4593d1ecbaa167a2d3e910ccc986f5c4b5ecbbc8</td>\n",
              "      <td>10.1093/epirev/mxz012</td>\n",
              "      <td>The Coalition for Epidemic Preparedness Innova...</td>\n",
              "      <td>In recent decades, the world has been shaken b...</td>\n",
              "      <td>Gouglas, Dimitrios.  Christodoulou, Mario. &lt;b...</td>\n",
              "      <td>CEPI: Driving Progress Toward Epidemic&lt;br&gt;Pre...</td>\n",
              "      <td>Epidemiol Rev</td>\n",
              "      <td>The Coalition for Epidemic Preparedness&lt;br&gt;In...</td>\n",
              "      <td>211</td>\n",
              "      <td>2585</td>\n",
              "      <td>1018</td>\n",
              "      <td>en</td>\n",
              "      <td>recent decade world shake emergence spread new...</td>\n",
              "    </tr>\n",
              "    <tr>\n",
              "      <th>5</th>\n",
              "      <td>5cba1e45c2829cb0ebaa7bf5384fa685f543c6d6</td>\n",
              "      <td>10.1292/jvms.13-0094</td>\n",
              "      <td>Ascitic feline coronavirus (FCoV) RNA was exam...</td>\n",
              "      <td>Feline infectious peritonitis (FIP) is an immu...</td>\n",
              "      <td>SOMA, Takehisa.  WADA, Makoto.  TAHARAGUCHI,&lt;...</td>\n",
              "      <td>Detection of Ascitic Feline Coronavirus RNA&lt;b...</td>\n",
              "      <td>J Vet Med Sci</td>\n",
              "      <td>Ascitic feline coronavirus (FCoV) RNA was&lt;br&gt;...</td>\n",
              "      <td>120</td>\n",
              "      <td>1658</td>\n",
              "      <td>639</td>\n",
              "      <td>en</td>\n",
              "      <td>feline infectious peritonitis fip immune-media...</td>\n",
              "    </tr>\n",
              "    <tr>\n",
              "      <th>6</th>\n",
              "      <td>b3707acee35230b2cb6c548837f7f6ca94a26f6b</td>\n",
              "      <td>10.1177/2055116915615370</td>\n",
              "      <td>Case summary A 10-month-old neutered male dome...</td>\n",
              "      <td>Polyuria and polydipsia (PU/PD) are apparent i...</td>\n",
              "      <td>Long, Charles Tyler.  Williams, Morika. &lt;br&gt;S...</td>\n",
              "      <td>Probable primary polydipsia in a domestic&lt;br&gt;...</td>\n",
              "      <td>JFMS Open Rep</td>\n",
              "      <td>Case summary A 10-month-old neutered male&lt;br&gt;...</td>\n",
              "      <td>164</td>\n",
              "      <td>2939</td>\n",
              "      <td>1123</td>\n",
              "      <td>en</td>\n",
              "      <td>polyuria polydipsia pu/pd apparent cat urine s...</td>\n",
              "    </tr>\n",
              "  </tbody>\n",
              "</table>\n",
              "</div>"
            ],
            "text/plain": [
              "                                   paper_id  ...                                     processed_text\n",
              "0  c1a29945f51707d279560855da521ea878989333  ...  coronaviruses covs envelop virus positive-sens...\n",
              "2  1a2900a53677a6c68ff37167c31ca33ad219acdb  ...  fluoroquinolones fqs widely use human veterina...\n",
              "4  4593d1ecbaa167a2d3e910ccc986f5c4b5ecbbc8  ...  recent decade world shake emergence spread new...\n",
              "5  5cba1e45c2829cb0ebaa7bf5384fa685f543c6d6  ...  feline infectious peritonitis fip immune-media...\n",
              "6  b3707acee35230b2cb6c548837f7f6ca94a26f6b  ...  polyuria polydipsia pu/pd apparent cat urine s...\n",
              "\n",
              "[5 rows x 13 columns]"
            ]
          },
          "metadata": {
            "tags": []
          },
          "execution_count": 7
        }
      ]
    },
    {
      "cell_type": "code",
      "metadata": {
        "id": "av25tFX9RBoD",
        "colab_type": "code",
        "colab": {}
      },
      "source": [
        "import re\n",
        "\n",
        "df['body_text'] = df['body_text'].apply(lambda x: re.sub('[^a-zA-z0-9\\s]','',x))\n",
        "df['abstract'] = df['abstract'].apply(lambda x: re.sub('[^a-zA-z0-9\\s]','',x))"
      ],
      "execution_count": 0,
      "outputs": []
    },
    {
      "cell_type": "code",
      "metadata": {
        "id": "Z8JDYf-cRi55",
        "colab_type": "code",
        "colab": {}
      },
      "source": [
        "def lower_case(input_str):\n",
        "    input_str = input_str.lower()\n",
        "    return input_str\n",
        "\n",
        "df['body_text'] = df['body_text'].apply(lambda x: lower_case(x))\n",
        "df['abstract'] = df['abstract'].apply(lambda x: lower_case(x))"
      ],
      "execution_count": 0,
      "outputs": []
    },
    {
      "cell_type": "code",
      "metadata": {
        "id": "6ZRfi79DRn8o",
        "colab_type": "code",
        "colab": {
          "base_uri": "https://localhost:8080/",
          "height": 434
        },
        "outputId": "82297361-f441-4d91-8a2b-aa80bd07aab6"
      },
      "source": [
        "df.head(4)"
      ],
      "execution_count": 12,
      "outputs": [
        {
          "output_type": "execute_result",
          "data": {
            "text/html": [
              "<div>\n",
              "<style scoped>\n",
              "    .dataframe tbody tr th:only-of-type {\n",
              "        vertical-align: middle;\n",
              "    }\n",
              "\n",
              "    .dataframe tbody tr th {\n",
              "        vertical-align: top;\n",
              "    }\n",
              "\n",
              "    .dataframe thead th {\n",
              "        text-align: right;\n",
              "    }\n",
              "</style>\n",
              "<table border=\"1\" class=\"dataframe\">\n",
              "  <thead>\n",
              "    <tr style=\"text-align: right;\">\n",
              "      <th></th>\n",
              "      <th>paper_id</th>\n",
              "      <th>doi</th>\n",
              "      <th>abstract</th>\n",
              "      <th>body_text</th>\n",
              "      <th>authors</th>\n",
              "      <th>title</th>\n",
              "      <th>journal</th>\n",
              "      <th>abstract_summary</th>\n",
              "      <th>abstract_word_count</th>\n",
              "      <th>body_word_count</th>\n",
              "      <th>body_unique_words</th>\n",
              "      <th>language</th>\n",
              "      <th>processed_text</th>\n",
              "    </tr>\n",
              "  </thead>\n",
              "  <tbody>\n",
              "    <tr>\n",
              "      <th>0</th>\n",
              "      <td>c1a29945f51707d279560855da521ea878989333</td>\n",
              "      <td>10.1126/sciadv.aav4580</td>\n",
              "      <td>continuously emerging highly pathogenic human ...</td>\n",
              "      <td>coronaviruses covs are enveloped viruses with ...</td>\n",
              "      <td>Xia, Shuai.  Yan, Lei.  Xu, Wei.  Agrawal, An...</td>\n",
              "      <td>A pan-coronavirus fusion inhibitor targeting&lt;...</td>\n",
              "      <td>Sci Adv</td>\n",
              "      <td>Continuously emerging highly pathogenic&lt;br&gt;hu...</td>\n",
              "      <td>150</td>\n",
              "      <td>9082</td>\n",
              "      <td>2521</td>\n",
              "      <td>en</td>\n",
              "      <td>coronaviruses covs envelop virus positive-sens...</td>\n",
              "    </tr>\n",
              "    <tr>\n",
              "      <th>2</th>\n",
              "      <td>1a2900a53677a6c68ff37167c31ca33ad219acdb</td>\n",
              "      <td>10.4142/jvs.2015.16.4.431</td>\n",
              "      <td>monoclonal antienrofloxacin antibody was prepa...</td>\n",
              "      <td>fluoroquinolones fqs have been widely used as ...</td>\n",
              "      <td>Kim, Nam-Gun.  Kim, Myeong-Ae.  Park, Young-I...</td>\n",
              "      <td>Magnetic nanoparticle based purification and&lt;...</td>\n",
              "      <td>J Vet Sci</td>\n",
              "      <td>Monoclonal anti-enrofloxacin antibody was&lt;br&gt;...</td>\n",
              "      <td>188</td>\n",
              "      <td>2589</td>\n",
              "      <td>1048</td>\n",
              "      <td>en</td>\n",
              "      <td>fluoroquinolones fqs widely use human veterina...</td>\n",
              "    </tr>\n",
              "    <tr>\n",
              "      <th>4</th>\n",
              "      <td>4593d1ecbaa167a2d3e910ccc986f5c4b5ecbbc8</td>\n",
              "      <td>10.1093/epirev/mxz012</td>\n",
              "      <td>the coalition for epidemic preparedness innova...</td>\n",
              "      <td>in recent decades the world has been shaken by...</td>\n",
              "      <td>Gouglas, Dimitrios.  Christodoulou, Mario. &lt;b...</td>\n",
              "      <td>CEPI: Driving Progress Toward Epidemic&lt;br&gt;Pre...</td>\n",
              "      <td>Epidemiol Rev</td>\n",
              "      <td>The Coalition for Epidemic Preparedness&lt;br&gt;In...</td>\n",
              "      <td>211</td>\n",
              "      <td>2585</td>\n",
              "      <td>1018</td>\n",
              "      <td>en</td>\n",
              "      <td>recent decade world shake emergence spread new...</td>\n",
              "    </tr>\n",
              "    <tr>\n",
              "      <th>5</th>\n",
              "      <td>5cba1e45c2829cb0ebaa7bf5384fa685f543c6d6</td>\n",
              "      <td>10.1292/jvms.13-0094</td>\n",
              "      <td>ascitic feline coronavirus fcov rna was examin...</td>\n",
              "      <td>feline infectious peritonitis fip is an immune...</td>\n",
              "      <td>SOMA, Takehisa.  WADA, Makoto.  TAHARAGUCHI,&lt;...</td>\n",
              "      <td>Detection of Ascitic Feline Coronavirus RNA&lt;b...</td>\n",
              "      <td>J Vet Med Sci</td>\n",
              "      <td>Ascitic feline coronavirus (FCoV) RNA was&lt;br&gt;...</td>\n",
              "      <td>120</td>\n",
              "      <td>1658</td>\n",
              "      <td>639</td>\n",
              "      <td>en</td>\n",
              "      <td>feline infectious peritonitis fip immune-media...</td>\n",
              "    </tr>\n",
              "  </tbody>\n",
              "</table>\n",
              "</div>"
            ],
            "text/plain": [
              "                                   paper_id  ...                                     processed_text\n",
              "0  c1a29945f51707d279560855da521ea878989333  ...  coronaviruses covs envelop virus positive-sens...\n",
              "2  1a2900a53677a6c68ff37167c31ca33ad219acdb  ...  fluoroquinolones fqs widely use human veterina...\n",
              "4  4593d1ecbaa167a2d3e910ccc986f5c4b5ecbbc8  ...  recent decade world shake emergence spread new...\n",
              "5  5cba1e45c2829cb0ebaa7bf5384fa685f543c6d6  ...  feline infectious peritonitis fip immune-media...\n",
              "\n",
              "[4 rows x 13 columns]"
            ]
          },
          "metadata": {
            "tags": []
          },
          "execution_count": 12
        }
      ]
    },
    {
      "cell_type": "code",
      "metadata": {
        "id": "EmLe0pt2R3pD",
        "colab_type": "code",
        "colab": {}
      },
      "source": [
        "df.to_csv(\"/content/drive/My Drive/Deep Learning Data/Covid-19 Text Mining/semantic_covid.csv\")"
      ],
      "execution_count": 0,
      "outputs": []
    },
    {
      "cell_type": "code",
      "metadata": {
        "id": "XUCbRz7cR_GD",
        "colab_type": "code",
        "colab": {
          "base_uri": "https://localhost:8080/",
          "height": 499
        },
        "outputId": "889c082b-621b-4e57-ef04-b13b700831e4"
      },
      "source": [
        "df_covid_test = pd.read_csv(\"/content/drive/My Drive/Deep Learning Data/Covid-19 Text Mining/semantic_covid.csv\")\n",
        "text = df_covid_test.drop([\"authors\", \"journal\", \"Unnamed: 0\"], axis=1)\n",
        "text.head(5)"
      ],
      "execution_count": 15,
      "outputs": [
        {
          "output_type": "execute_result",
          "data": {
            "text/html": [
              "<div>\n",
              "<style scoped>\n",
              "    .dataframe tbody tr th:only-of-type {\n",
              "        vertical-align: middle;\n",
              "    }\n",
              "\n",
              "    .dataframe tbody tr th {\n",
              "        vertical-align: top;\n",
              "    }\n",
              "\n",
              "    .dataframe thead th {\n",
              "        text-align: right;\n",
              "    }\n",
              "</style>\n",
              "<table border=\"1\" class=\"dataframe\">\n",
              "  <thead>\n",
              "    <tr style=\"text-align: right;\">\n",
              "      <th></th>\n",
              "      <th>paper_id</th>\n",
              "      <th>doi</th>\n",
              "      <th>abstract</th>\n",
              "      <th>body_text</th>\n",
              "      <th>title</th>\n",
              "      <th>abstract_summary</th>\n",
              "      <th>abstract_word_count</th>\n",
              "      <th>body_word_count</th>\n",
              "      <th>body_unique_words</th>\n",
              "      <th>language</th>\n",
              "      <th>processed_text</th>\n",
              "    </tr>\n",
              "  </thead>\n",
              "  <tbody>\n",
              "    <tr>\n",
              "      <th>0</th>\n",
              "      <td>c1a29945f51707d279560855da521ea878989333</td>\n",
              "      <td>10.1126/sciadv.aav4580</td>\n",
              "      <td>continuously emerging highly pathogenic human ...</td>\n",
              "      <td>coronaviruses covs are enveloped viruses with ...</td>\n",
              "      <td>A pan-coronavirus fusion inhibitor targeting&lt;...</td>\n",
              "      <td>Continuously emerging highly pathogenic&lt;br&gt;hu...</td>\n",
              "      <td>150</td>\n",
              "      <td>9082</td>\n",
              "      <td>2521</td>\n",
              "      <td>en</td>\n",
              "      <td>coronaviruses covs envelop virus positive-sens...</td>\n",
              "    </tr>\n",
              "    <tr>\n",
              "      <th>1</th>\n",
              "      <td>1a2900a53677a6c68ff37167c31ca33ad219acdb</td>\n",
              "      <td>10.4142/jvs.2015.16.4.431</td>\n",
              "      <td>monoclonal antienrofloxacin antibody was prepa...</td>\n",
              "      <td>fluoroquinolones fqs have been widely used as ...</td>\n",
              "      <td>Magnetic nanoparticle based purification and&lt;...</td>\n",
              "      <td>Monoclonal anti-enrofloxacin antibody was&lt;br&gt;...</td>\n",
              "      <td>188</td>\n",
              "      <td>2589</td>\n",
              "      <td>1048</td>\n",
              "      <td>en</td>\n",
              "      <td>fluoroquinolones fqs widely use human veterina...</td>\n",
              "    </tr>\n",
              "    <tr>\n",
              "      <th>2</th>\n",
              "      <td>4593d1ecbaa167a2d3e910ccc986f5c4b5ecbbc8</td>\n",
              "      <td>10.1093/epirev/mxz012</td>\n",
              "      <td>the coalition for epidemic preparedness innova...</td>\n",
              "      <td>in recent decades the world has been shaken by...</td>\n",
              "      <td>CEPI: Driving Progress Toward Epidemic&lt;br&gt;Pre...</td>\n",
              "      <td>The Coalition for Epidemic Preparedness&lt;br&gt;In...</td>\n",
              "      <td>211</td>\n",
              "      <td>2585</td>\n",
              "      <td>1018</td>\n",
              "      <td>en</td>\n",
              "      <td>recent decade world shake emergence spread new...</td>\n",
              "    </tr>\n",
              "    <tr>\n",
              "      <th>3</th>\n",
              "      <td>5cba1e45c2829cb0ebaa7bf5384fa685f543c6d6</td>\n",
              "      <td>10.1292/jvms.13-0094</td>\n",
              "      <td>ascitic feline coronavirus fcov rna was examin...</td>\n",
              "      <td>feline infectious peritonitis fip is an immune...</td>\n",
              "      <td>Detection of Ascitic Feline Coronavirus RNA&lt;b...</td>\n",
              "      <td>Ascitic feline coronavirus (FCoV) RNA was&lt;br&gt;...</td>\n",
              "      <td>120</td>\n",
              "      <td>1658</td>\n",
              "      <td>639</td>\n",
              "      <td>en</td>\n",
              "      <td>feline infectious peritonitis fip immune-media...</td>\n",
              "    </tr>\n",
              "    <tr>\n",
              "      <th>4</th>\n",
              "      <td>b3707acee35230b2cb6c548837f7f6ca94a26f6b</td>\n",
              "      <td>10.1177/2055116915615370</td>\n",
              "      <td>case summary a 10monthold neutered male domest...</td>\n",
              "      <td>polyuria and polydipsia pupd are apparent in a...</td>\n",
              "      <td>Probable primary polydipsia in a domestic&lt;br&gt;...</td>\n",
              "      <td>Case summary A 10-month-old neutered male&lt;br&gt;...</td>\n",
              "      <td>164</td>\n",
              "      <td>2939</td>\n",
              "      <td>1123</td>\n",
              "      <td>en</td>\n",
              "      <td>polyuria polydipsia pu/pd apparent cat urine s...</td>\n",
              "    </tr>\n",
              "  </tbody>\n",
              "</table>\n",
              "</div>"
            ],
            "text/plain": [
              "                                   paper_id  ...                                     processed_text\n",
              "0  c1a29945f51707d279560855da521ea878989333  ...  coronaviruses covs envelop virus positive-sens...\n",
              "1  1a2900a53677a6c68ff37167c31ca33ad219acdb  ...  fluoroquinolones fqs widely use human veterina...\n",
              "2  4593d1ecbaa167a2d3e910ccc986f5c4b5ecbbc8  ...  recent decade world shake emergence spread new...\n",
              "3  5cba1e45c2829cb0ebaa7bf5384fa685f543c6d6  ...  feline infectious peritonitis fip immune-media...\n",
              "4  b3707acee35230b2cb6c548837f7f6ca94a26f6b  ...  polyuria polydipsia pu/pd apparent cat urine s...\n",
              "\n",
              "[5 rows x 11 columns]"
            ]
          },
          "metadata": {
            "tags": []
          },
          "execution_count": 15
        }
      ]
    },
    {
      "cell_type": "code",
      "metadata": {
        "id": "ofuJ41ISSVxc",
        "colab_type": "code",
        "colab": {}
      },
      "source": [
        "text_dict = text.to_dict()\n",
        "len_text = len(text_dict[\"paper_id\"])"
      ],
      "execution_count": 0,
      "outputs": []
    },
    {
      "cell_type": "code",
      "metadata": {
        "id": "81ie-FRQSgCr",
        "colab_type": "code",
        "colab": {
          "base_uri": "https://localhost:8080/",
          "height": 34
        },
        "outputId": "7047e054-8f32-498f-dfe5-41ae8b81a1a4"
      },
      "source": [
        "from tqdm import tqdm\n",
        "paper_id_list  = []\n",
        "body_text_list = []\n",
        "\n",
        "title_list = []\n",
        "abstract_list = []\n",
        "abstract_summary_list = []\n",
        "for i in tqdm(range(0,len_text)):\n",
        "  paper_id = text_dict[\"paper_id\"][i]\n",
        "  body_text = text_dict[\"body_text\"][i].split(\"\\n\")\n",
        "  title = text_dict[\"title\"][i]\n",
        "  abstract = text_dict[\"abstract\"][i]\n",
        "  abstract_summary = text_dict[\"abstract_summary\"][i]\n",
        "  for b in body_text:\n",
        "    paper_id_list.append(paper_id)\n",
        "    body_text_list.append(b)\n",
        "    title_list.append(title)\n",
        "    abstract_list.append(abstract)\n",
        "    abstract_summary_list.append(abstract_summary)"
      ],
      "execution_count": 18,
      "outputs": [
        {
          "output_type": "stream",
          "text": [
            "100%|██████████| 24239/24239 [00:00<00:00, 25695.95it/s]\n"
          ],
          "name": "stderr"
        }
      ]
    },
    {
      "cell_type": "code",
      "metadata": {
        "id": "_2Tsq6PvSjOU",
        "colab_type": "code",
        "colab": {
          "base_uri": "https://localhost:8080/",
          "height": 963
        },
        "outputId": "3c463512-54d1-4e42-bb0b-c2795f008c99"
      },
      "source": [
        "df_sentences = pd.DataFrame({\"paper_id\":paper_id_list},index=body_text_list)\n",
        "df_sentences.to_csv(\"/content/drive/My Drive/Deep Learning Data/Covid-19 Text Mining/semantic_sentences.csv\")\n",
        "df_sentences.head()"
      ],
      "execution_count": 20,
      "outputs": [
        {
          "output_type": "execute_result",
          "data": {
            "text/html": [
              "<div>\n",
              "<style scoped>\n",
              "    .dataframe tbody tr th:only-of-type {\n",
              "        vertical-align: middle;\n",
              "    }\n",
              "\n",
              "    .dataframe tbody tr th {\n",
              "        vertical-align: top;\n",
              "    }\n",
              "\n",
              "    .dataframe thead th {\n",
              "        text-align: right;\n",
              "    }\n",
              "</style>\n",
              "<table border=\"1\" class=\"dataframe\">\n",
              "  <thead>\n",
              "    <tr style=\"text-align: right;\">\n",
              "      <th></th>\n",
              "      <th>paper_id</th>\n",
              "    </tr>\n",
              "  </thead>\n",
              "  <tbody>\n",
              "    <tr>\n",
              "      <th>coronaviruses covs are enveloped viruses with a positivesense singlestranded rna and are associated with various natural hosts covs are divided into alpha beta gamma and delta groups and the beta group is further composed of a b c and d subgroups fig 1a 1 among them six covs can infect humans hcovs including hcov229e 229e and hcovnl63 nl63 in the alpha group hcovoc43 oc43 and hcovhku1 hku1 in beta subgroup a severe acute respiratory syndrome cov sarscov in beta subgroup b and middle east respiratory syndrome cov merscov in beta subgroup c 2</th>\n",
              "      <td>c1a29945f51707d279560855da521ea878989333</td>\n",
              "    </tr>\n",
              "    <tr>\n",
              "      <th>in this century sarscov and merscov have emerged in the human population and caused severe pulmonary disease with alarmingly high casefatality rates in 2002 sarscov infections first appeared in china and then quickly spread as a global epidemic in more than 30 countries with 8273 infections and 775 deaths nearly 10 mortality 2  in 2012 merscov emerged in saudi arabia and spread throughout the middle east in 2015 the second pandemic of merscov occurred in south korea causing superspreading events with thirdand fourthgeneration cases of infection the world health organization has reported 2229 laboratoryconfirmed cases of merscov infection including 791 deaths about 35 case fatality in 27 countries as of august 2018 wwwwhointemergencies merscoven meanwhile the remaining common hcovs such as 229e oc43 and nl63 usually infect the human upper respiratory tract and cause the common cold but they also are responsible for severe and even fatal diseases in children elderly and immunocompromised patients 3 4 5  these scenarios suggest that those common hcovs might also pose a lethal threat to humans note that hcovs are rapidly evolving oc43 isolates with novel genomes are being continuously identified 6 7 8</th>\n",
              "      <td>c1a29945f51707d279560855da521ea878989333</td>\n",
              "    </tr>\n",
              "    <tr>\n",
              "      <th>the existence of sarslike cov slcov and merslike cov mlcov also pose great threats to public health worldwide recent studies identified some types of slcov such as slwiv1cov and slshc014cov whose spike s proteins highly resemble those of sarscov these slcovs could use the same sarscov receptor ie angiotensinconverting enzyme2 ace2 to directly enter permissive human cells without need for adaptation 9 10 11  in addition the mlcov tylonycteris bat cov hku4 was shown to recognize the merscov receptor cd26 and infect human cells either after introduction of two single mutations s746r and n762a into its s protein or with the help of exogenous protease 12 13  from a historical perspective zoonotic covs harbor a strong ability to cross species barriers to infect humans rapidly and unpredictably as illustrated by newly emerging hcovs 2 14  thus developing a specific drug that only targets a single hcov would be ineffective against newly emerging hcovs 9 10 11  since no broadspectrum antihcov drug is currently available for clinical use it is incumbent to search for a common or conserved target site based on existing hcovs</th>\n",
              "      <td>c1a29945f51707d279560855da521ea878989333</td>\n",
              "    </tr>\n",
              "    <tr>\n",
              "      <th>the s glycoprotein is a type i transmembrane glycoprotein that plays an important role in mediating viral infection and is common to all hcovs the s proteins consist of two subunits s1 and s2 fig 1b  the s1 subunit binds the cellular receptor through its receptorbinding domain rbd followed by conformational changes in the s2 subunit which allows the fusion peptide to insert into the host target cell membrane the heptad repeat 1 hr1 region in the s2 subunit forms a homotrimeric assembly which exposes three highly conserved hydrophobic grooves on the surface that bind heptad repeat 2 hr2 this sixhelix bundle 6hb core structure is formed during the fusion process and helps bring the viral and cellular membranes into close proximity for viral fusion and entry  fig 1b 15  thus the s protein is an important target protein for the development of specific drugs in particular the s1 rbd is a very good target site and both rbdspecific antibodies and rbdbased vaccines have previously exhibited effective antiviral activity or protective effect in blocking binding of virus to host receptors 16  however from an evolutionary perspective the rbd of cov is part of a highly mutable region and thus is not an ideal target site for broadspectrum antiviral inhibitor development 14  the sarscov rbdspecific antibody fm6 failed to block infection mediated by the s protein of slcovshc014 9 10 11 17  in contrast the hr region in the s2 subunit is conserved among various hcovs and plays a pivotal role in hcov infections by forming the 6hb that mediates viral fusion fig s1a furthermore the mode of interaction between hr1 and hr2 is conserved among covs such that residues located at the e and g positions in the hr1 helices interact with residues at the a and d positions in the hr2 helices fig s1b 18  previous studies have reported that peptides derived from the hr2 or cterminal hr region of class i viral fusion proteins from some enveloped viruses including hiv1 19 20 21  respiratory syncytial virus rsv 22  ebola virus 23  paramyxoviruses sv5 24  nipah virus 25  and murine hepatitis virus mhv 26  could competitively bind the viral hr1 or nterminal hr and effectively inhibit viral infection therefore it is reasonable to speculate that hr1 could also be a good target for the development of fusion inhibitors against highly pathogenic hcovs</th>\n",
              "      <td>c1a29945f51707d279560855da521ea878989333</td>\n",
              "    </tr>\n",
              "    <tr>\n",
              "      <th>we and others have reported that peptides derived from the hr2 regions of sarscov and merscov s proteins can competitively inhibit viral 6hb formation thereby preventing viral fusion and entry into host cells 18 27  for example the peptide cp1 derived from the sarscov spike protein hr2 region was able to inhibit sarscov entry in a manner similar to that of mershr2p against merscov infection 18 27  however we note that those peptides lack broadspectrum antiviral activity against heterologous hcovs for example cp1 and mershr2p peptides failed to crossinhibit merscov and sarscov infection respectively furthermore the cov fusion core hr regions can be divided into two groups 28 29  short hrs such as merscov sarscov and oc43 hrs and long hrs such as 229e and nl63 hrs the difference between short and long hrs arises from an insertion of 14 amino acids in the long hrs further increasing the difficulty in designing broadspectrum peptide fusion inhibitors to address this challenge we herein report the successful screening of a peptide oc43hr2p with broadspectrum fusion inhibitory activity furthermore a modified oc43hr2p peptide ek1 shows promising potency and breadth in inhibiting infection by multiple hcovs in vivo studies demonstrate that administration of ek1 via the nasal route exhibits highly protective effects and safety profiles highlighting its clinical potential moreover structural studies of ek1 in complex with hr1s from different hcovs explain the conserved basis for the hr1ek1 interaction further indicating that hr1 region could serve as a promising target site for the development of broadspectrum pancov fusion inhibitors</th>\n",
              "      <td>c1a29945f51707d279560855da521ea878989333</td>\n",
              "    </tr>\n",
              "  </tbody>\n",
              "</table>\n",
              "</div>"
            ],
            "text/plain": [
              "                                                                                    paper_id\n",
              "coronaviruses covs are enveloped viruses with a...  c1a29945f51707d279560855da521ea878989333\n",
              "in this century sarscov and merscov have emerge...  c1a29945f51707d279560855da521ea878989333\n",
              "the existence of sarslike cov slcov and merslik...  c1a29945f51707d279560855da521ea878989333\n",
              "the s glycoprotein is a type i transmembrane gl...  c1a29945f51707d279560855da521ea878989333\n",
              "we and others have reported that peptides deriv...  c1a29945f51707d279560855da521ea878989333"
            ]
          },
          "metadata": {
            "tags": []
          },
          "execution_count": 20
        }
      ]
    },
    {
      "cell_type": "code",
      "metadata": {
        "id": "or5j9OdpSpGU",
        "colab_type": "code",
        "colab": {
          "base_uri": "https://localhost:8080/",
          "height": 1000
        },
        "outputId": "25d253b3-055e-4f7e-e2d0-145fe583ab23"
      },
      "source": [
        "df_sentences = pd.DataFrame({\"paper_id\":paper_id_list,\"title\":title_list,\"abstract\":abstract_list,\"abstract_summary\":abstract_summary_list},index=body_text_list)\n",
        "df_sentences.to_csv(\"/content/drive/My Drive/Deep Learning Data/Covid-19 Text Mining/covid_sentences_Full.csv\")\n",
        "df_sentences.head()"
      ],
      "execution_count": 22,
      "outputs": [
        {
          "output_type": "execute_result",
          "data": {
            "text/html": [
              "<div>\n",
              "<style scoped>\n",
              "    .dataframe tbody tr th:only-of-type {\n",
              "        vertical-align: middle;\n",
              "    }\n",
              "\n",
              "    .dataframe tbody tr th {\n",
              "        vertical-align: top;\n",
              "    }\n",
              "\n",
              "    .dataframe thead th {\n",
              "        text-align: right;\n",
              "    }\n",
              "</style>\n",
              "<table border=\"1\" class=\"dataframe\">\n",
              "  <thead>\n",
              "    <tr style=\"text-align: right;\">\n",
              "      <th></th>\n",
              "      <th>paper_id</th>\n",
              "      <th>title</th>\n",
              "      <th>abstract</th>\n",
              "      <th>abstract_summary</th>\n",
              "    </tr>\n",
              "  </thead>\n",
              "  <tbody>\n",
              "    <tr>\n",
              "      <th>coronaviruses covs are enveloped viruses with a positivesense singlestranded rna and are associated with various natural hosts covs are divided into alpha beta gamma and delta groups and the beta group is further composed of a b c and d subgroups fig 1a 1 among them six covs can infect humans hcovs including hcov229e 229e and hcovnl63 nl63 in the alpha group hcovoc43 oc43 and hcovhku1 hku1 in beta subgroup a severe acute respiratory syndrome cov sarscov in beta subgroup b and middle east respiratory syndrome cov merscov in beta subgroup c 2</th>\n",
              "      <td>c1a29945f51707d279560855da521ea878989333</td>\n",
              "      <td>A pan-coronavirus fusion inhibitor targeting&lt;...</td>\n",
              "      <td>continuously emerging highly pathogenic human ...</td>\n",
              "      <td>Continuously emerging highly pathogenic&lt;br&gt;hu...</td>\n",
              "    </tr>\n",
              "    <tr>\n",
              "      <th>in this century sarscov and merscov have emerged in the human population and caused severe pulmonary disease with alarmingly high casefatality rates in 2002 sarscov infections first appeared in china and then quickly spread as a global epidemic in more than 30 countries with 8273 infections and 775 deaths nearly 10 mortality 2  in 2012 merscov emerged in saudi arabia and spread throughout the middle east in 2015 the second pandemic of merscov occurred in south korea causing superspreading events with thirdand fourthgeneration cases of infection the world health organization has reported 2229 laboratoryconfirmed cases of merscov infection including 791 deaths about 35 case fatality in 27 countries as of august 2018 wwwwhointemergencies merscoven meanwhile the remaining common hcovs such as 229e oc43 and nl63 usually infect the human upper respiratory tract and cause the common cold but they also are responsible for severe and even fatal diseases in children elderly and immunocompromised patients 3 4 5  these scenarios suggest that those common hcovs might also pose a lethal threat to humans note that hcovs are rapidly evolving oc43 isolates with novel genomes are being continuously identified 6 7 8</th>\n",
              "      <td>c1a29945f51707d279560855da521ea878989333</td>\n",
              "      <td>A pan-coronavirus fusion inhibitor targeting&lt;...</td>\n",
              "      <td>continuously emerging highly pathogenic human ...</td>\n",
              "      <td>Continuously emerging highly pathogenic&lt;br&gt;hu...</td>\n",
              "    </tr>\n",
              "    <tr>\n",
              "      <th>the existence of sarslike cov slcov and merslike cov mlcov also pose great threats to public health worldwide recent studies identified some types of slcov such as slwiv1cov and slshc014cov whose spike s proteins highly resemble those of sarscov these slcovs could use the same sarscov receptor ie angiotensinconverting enzyme2 ace2 to directly enter permissive human cells without need for adaptation 9 10 11  in addition the mlcov tylonycteris bat cov hku4 was shown to recognize the merscov receptor cd26 and infect human cells either after introduction of two single mutations s746r and n762a into its s protein or with the help of exogenous protease 12 13  from a historical perspective zoonotic covs harbor a strong ability to cross species barriers to infect humans rapidly and unpredictably as illustrated by newly emerging hcovs 2 14  thus developing a specific drug that only targets a single hcov would be ineffective against newly emerging hcovs 9 10 11  since no broadspectrum antihcov drug is currently available for clinical use it is incumbent to search for a common or conserved target site based on existing hcovs</th>\n",
              "      <td>c1a29945f51707d279560855da521ea878989333</td>\n",
              "      <td>A pan-coronavirus fusion inhibitor targeting&lt;...</td>\n",
              "      <td>continuously emerging highly pathogenic human ...</td>\n",
              "      <td>Continuously emerging highly pathogenic&lt;br&gt;hu...</td>\n",
              "    </tr>\n",
              "    <tr>\n",
              "      <th>the s glycoprotein is a type i transmembrane glycoprotein that plays an important role in mediating viral infection and is common to all hcovs the s proteins consist of two subunits s1 and s2 fig 1b  the s1 subunit binds the cellular receptor through its receptorbinding domain rbd followed by conformational changes in the s2 subunit which allows the fusion peptide to insert into the host target cell membrane the heptad repeat 1 hr1 region in the s2 subunit forms a homotrimeric assembly which exposes three highly conserved hydrophobic grooves on the surface that bind heptad repeat 2 hr2 this sixhelix bundle 6hb core structure is formed during the fusion process and helps bring the viral and cellular membranes into close proximity for viral fusion and entry  fig 1b 15  thus the s protein is an important target protein for the development of specific drugs in particular the s1 rbd is a very good target site and both rbdspecific antibodies and rbdbased vaccines have previously exhibited effective antiviral activity or protective effect in blocking binding of virus to host receptors 16  however from an evolutionary perspective the rbd of cov is part of a highly mutable region and thus is not an ideal target site for broadspectrum antiviral inhibitor development 14  the sarscov rbdspecific antibody fm6 failed to block infection mediated by the s protein of slcovshc014 9 10 11 17  in contrast the hr region in the s2 subunit is conserved among various hcovs and plays a pivotal role in hcov infections by forming the 6hb that mediates viral fusion fig s1a furthermore the mode of interaction between hr1 and hr2 is conserved among covs such that residues located at the e and g positions in the hr1 helices interact with residues at the a and d positions in the hr2 helices fig s1b 18  previous studies have reported that peptides derived from the hr2 or cterminal hr region of class i viral fusion proteins from some enveloped viruses including hiv1 19 20 21  respiratory syncytial virus rsv 22  ebola virus 23  paramyxoviruses sv5 24  nipah virus 25  and murine hepatitis virus mhv 26  could competitively bind the viral hr1 or nterminal hr and effectively inhibit viral infection therefore it is reasonable to speculate that hr1 could also be a good target for the development of fusion inhibitors against highly pathogenic hcovs</th>\n",
              "      <td>c1a29945f51707d279560855da521ea878989333</td>\n",
              "      <td>A pan-coronavirus fusion inhibitor targeting&lt;...</td>\n",
              "      <td>continuously emerging highly pathogenic human ...</td>\n",
              "      <td>Continuously emerging highly pathogenic&lt;br&gt;hu...</td>\n",
              "    </tr>\n",
              "    <tr>\n",
              "      <th>we and others have reported that peptides derived from the hr2 regions of sarscov and merscov s proteins can competitively inhibit viral 6hb formation thereby preventing viral fusion and entry into host cells 18 27  for example the peptide cp1 derived from the sarscov spike protein hr2 region was able to inhibit sarscov entry in a manner similar to that of mershr2p against merscov infection 18 27  however we note that those peptides lack broadspectrum antiviral activity against heterologous hcovs for example cp1 and mershr2p peptides failed to crossinhibit merscov and sarscov infection respectively furthermore the cov fusion core hr regions can be divided into two groups 28 29  short hrs such as merscov sarscov and oc43 hrs and long hrs such as 229e and nl63 hrs the difference between short and long hrs arises from an insertion of 14 amino acids in the long hrs further increasing the difficulty in designing broadspectrum peptide fusion inhibitors to address this challenge we herein report the successful screening of a peptide oc43hr2p with broadspectrum fusion inhibitory activity furthermore a modified oc43hr2p peptide ek1 shows promising potency and breadth in inhibiting infection by multiple hcovs in vivo studies demonstrate that administration of ek1 via the nasal route exhibits highly protective effects and safety profiles highlighting its clinical potential moreover structural studies of ek1 in complex with hr1s from different hcovs explain the conserved basis for the hr1ek1 interaction further indicating that hr1 region could serve as a promising target site for the development of broadspectrum pancov fusion inhibitors</th>\n",
              "      <td>c1a29945f51707d279560855da521ea878989333</td>\n",
              "      <td>A pan-coronavirus fusion inhibitor targeting&lt;...</td>\n",
              "      <td>continuously emerging highly pathogenic human ...</td>\n",
              "      <td>Continuously emerging highly pathogenic&lt;br&gt;hu...</td>\n",
              "    </tr>\n",
              "  </tbody>\n",
              "</table>\n",
              "</div>"
            ],
            "text/plain": [
              "                                                                                    paper_id  ...                                   abstract_summary\n",
              "coronaviruses covs are enveloped viruses with a...  c1a29945f51707d279560855da521ea878989333  ...   Continuously emerging highly pathogenic<br>hu...\n",
              "in this century sarscov and merscov have emerge...  c1a29945f51707d279560855da521ea878989333  ...   Continuously emerging highly pathogenic<br>hu...\n",
              "the existence of sarslike cov slcov and merslik...  c1a29945f51707d279560855da521ea878989333  ...   Continuously emerging highly pathogenic<br>hu...\n",
              "the s glycoprotein is a type i transmembrane gl...  c1a29945f51707d279560855da521ea878989333  ...   Continuously emerging highly pathogenic<br>hu...\n",
              "we and others have reported that peptides deriv...  c1a29945f51707d279560855da521ea878989333  ...   Continuously emerging highly pathogenic<br>hu...\n",
              "\n",
              "[5 rows x 4 columns]"
            ]
          },
          "metadata": {
            "tags": []
          },
          "execution_count": 22
        }
      ]
    },
    {
      "cell_type": "code",
      "metadata": {
        "id": "HNswNomeS3fU",
        "colab_type": "code",
        "colab": {
          "base_uri": "https://localhost:8080/",
          "height": 34
        },
        "outputId": "9295f131-30d3-40e3-a50b-c65746591071"
      },
      "source": [
        "df_sentences = df_sentences[\"paper_id\"].to_dict()\n",
        "df_sentences_list = list(df_sentences.keys())\n",
        "len(df_sentences_list)"
      ],
      "execution_count": 23,
      "outputs": [
        {
          "output_type": "execute_result",
          "data": {
            "text/plain": [
              "775361"
            ]
          },
          "metadata": {
            "tags": []
          },
          "execution_count": 23
        }
      ]
    },
    {
      "cell_type": "code",
      "metadata": {
        "id": "zzgy-9HpTPec",
        "colab_type": "code",
        "colab": {
          "base_uri": "https://localhost:8080/",
          "height": 123
        },
        "outputId": "f5848a76-ff1d-4828-b4ef-304de17b3957"
      },
      "source": [
        "list(df_sentences.keys())[:5]"
      ],
      "execution_count": 24,
      "outputs": [
        {
          "output_type": "execute_result",
          "data": {
            "text/plain": [
              "['coronaviruses covs are enveloped viruses with a positivesense singlestranded rna and are associated with various natural hosts covs are divided into alpha beta gamma and delta groups and the beta group is further composed of a b c and d subgroups fig 1a 1 among them six covs can infect humans hcovs including hcov229e 229e and hcovnl63 nl63 in the alpha group hcovoc43 oc43 and hcovhku1 hku1 in beta subgroup a severe acute respiratory syndrome cov sarscov in beta subgroup b and middle east respiratory syndrome cov merscov in beta subgroup c 2 ',\n",
              " 'in this century sarscov and merscov have emerged in the human population and caused severe pulmonary disease with alarmingly high casefatality rates in 2002 sarscov infections first appeared in china and then quickly spread as a global epidemic in more than 30 countries with 8273 infections and 775 deaths nearly 10 mortality 2  in 2012 merscov emerged in saudi arabia and spread throughout the middle east in 2015 the second pandemic of merscov occurred in south korea causing superspreading events with thirdand fourthgeneration cases of infection the world health organization has reported 2229 laboratoryconfirmed cases of merscov infection including 791 deaths about 35 case fatality in 27 countries as of august 2018 wwwwhointemergencies merscoven meanwhile the remaining common hcovs such as 229e oc43 and nl63 usually infect the human upper respiratory tract and cause the common cold but they also are responsible for severe and even fatal diseases in children elderly and immunocompromised patients 3 4 5  these scenarios suggest that those common hcovs might also pose a lethal threat to humans note that hcovs are rapidly evolving oc43 isolates with novel genomes are being continuously identified 6 7 8 ',\n",
              " 'the existence of sarslike cov slcov and merslike cov mlcov also pose great threats to public health worldwide recent studies identified some types of slcov such as slwiv1cov and slshc014cov whose spike s proteins highly resemble those of sarscov these slcovs could use the same sarscov receptor ie angiotensinconverting enzyme2 ace2 to directly enter permissive human cells without need for adaptation 9 10 11  in addition the mlcov tylonycteris bat cov hku4 was shown to recognize the merscov receptor cd26 and infect human cells either after introduction of two single mutations s746r and n762a into its s protein or with the help of exogenous protease 12 13  from a historical perspective zoonotic covs harbor a strong ability to cross species barriers to infect humans rapidly and unpredictably as illustrated by newly emerging hcovs 2 14  thus developing a specific drug that only targets a single hcov would be ineffective against newly emerging hcovs 9 10 11  since no broadspectrum antihcov drug is currently available for clinical use it is incumbent to search for a common or conserved target site based on existing hcovs',\n",
              " 'the s glycoprotein is a type i transmembrane glycoprotein that plays an important role in mediating viral infection and is common to all hcovs the s proteins consist of two subunits s1 and s2 fig 1b  the s1 subunit binds the cellular receptor through its receptorbinding domain rbd followed by conformational changes in the s2 subunit which allows the fusion peptide to insert into the host target cell membrane the heptad repeat 1 hr1 region in the s2 subunit forms a homotrimeric assembly which exposes three highly conserved hydrophobic grooves on the surface that bind heptad repeat 2 hr2 this sixhelix bundle 6hb core structure is formed during the fusion process and helps bring the viral and cellular membranes into close proximity for viral fusion and entry  fig 1b 15  thus the s protein is an important target protein for the development of specific drugs in particular the s1 rbd is a very good target site and both rbdspecific antibodies and rbdbased vaccines have previously exhibited effective antiviral activity or protective effect in blocking binding of virus to host receptors 16  however from an evolutionary perspective the rbd of cov is part of a highly mutable region and thus is not an ideal target site for broadspectrum antiviral inhibitor development 14  the sarscov rbdspecific antibody fm6 failed to block infection mediated by the s protein of slcovshc014 9 10 11 17  in contrast the hr region in the s2 subunit is conserved among various hcovs and plays a pivotal role in hcov infections by forming the 6hb that mediates viral fusion fig s1a furthermore the mode of interaction between hr1 and hr2 is conserved among covs such that residues located at the e and g positions in the hr1 helices interact with residues at the a and d positions in the hr2 helices fig s1b 18  previous studies have reported that peptides derived from the hr2 or cterminal hr region of class i viral fusion proteins from some enveloped viruses including hiv1 19 20 21  respiratory syncytial virus rsv 22  ebola virus 23  paramyxoviruses sv5 24  nipah virus 25  and murine hepatitis virus mhv 26  could competitively bind the viral hr1 or nterminal hr and effectively inhibit viral infection therefore it is reasonable to speculate that hr1 could also be a good target for the development of fusion inhibitors against highly pathogenic hcovs',\n",
              " 'we and others have reported that peptides derived from the hr2 regions of sarscov and merscov s proteins can competitively inhibit viral 6hb formation thereby preventing viral fusion and entry into host cells 18 27  for example the peptide cp1 derived from the sarscov spike protein hr2 region was able to inhibit sarscov entry in a manner similar to that of mershr2p against merscov infection 18 27  however we note that those peptides lack broadspectrum antiviral activity against heterologous hcovs for example cp1 and mershr2p peptides failed to crossinhibit merscov and sarscov infection respectively furthermore the cov fusion core hr regions can be divided into two groups 28 29  short hrs such as merscov sarscov and oc43 hrs and long hrs such as 229e and nl63 hrs the difference between short and long hrs arises from an insertion of 14 amino acids in the long hrs further increasing the difficulty in designing broadspectrum peptide fusion inhibitors to address this challenge we herein report the successful screening of a peptide oc43hr2p with broadspectrum fusion inhibitory activity furthermore a modified oc43hr2p peptide ek1 shows promising potency and breadth in inhibiting infection by multiple hcovs in vivo studies demonstrate that administration of ek1 via the nasal route exhibits highly protective effects and safety profiles highlighting its clinical potential moreover structural studies of ek1 in complex with hr1s from different hcovs explain the conserved basis for the hr1ek1 interaction further indicating that hr1 region could serve as a promising target site for the development of broadspectrum pancov fusion inhibitors']"
            ]
          },
          "metadata": {
            "tags": []
          },
          "execution_count": 24
        }
      ]
    },
    {
      "cell_type": "code",
      "metadata": {
        "id": "OJz0CrSJTSlc",
        "colab_type": "code",
        "colab": {
          "base_uri": "https://localhost:8080/",
          "height": 34
        },
        "outputId": "29aeee2e-3055-4cbd-e485-44a00a5ff88d"
      },
      "source": [
        "df_sentences_list = [str(d) for d in tqdm(df_sentences_list)]"
      ],
      "execution_count": 25,
      "outputs": [
        {
          "output_type": "stream",
          "text": [
            "100%|██████████| 775361/775361 [00:00<00:00, 1918020.55it/s]\n"
          ],
          "name": "stderr"
        }
      ]
    },
    {
      "cell_type": "code",
      "metadata": {
        "id": "YA_SywkhTVe8",
        "colab_type": "code",
        "colab": {
          "base_uri": "https://localhost:8080/",
          "height": 1000
        },
        "outputId": "0321f634-2b89-43c5-d0ae-3379231d615e"
      },
      "source": [
        "import pandas as pd\n",
        "df = pd.read_csv(\"/content/drive/My Drive/Deep Learning Data/Covid-19 Text Mining/covid_sentences_Full.csv\", index_col=0)\n",
        "df.head()"
      ],
      "execution_count": 26,
      "outputs": [
        {
          "output_type": "execute_result",
          "data": {
            "text/html": [
              "<div>\n",
              "<style scoped>\n",
              "    .dataframe tbody tr th:only-of-type {\n",
              "        vertical-align: middle;\n",
              "    }\n",
              "\n",
              "    .dataframe tbody tr th {\n",
              "        vertical-align: top;\n",
              "    }\n",
              "\n",
              "    .dataframe thead th {\n",
              "        text-align: right;\n",
              "    }\n",
              "</style>\n",
              "<table border=\"1\" class=\"dataframe\">\n",
              "  <thead>\n",
              "    <tr style=\"text-align: right;\">\n",
              "      <th></th>\n",
              "      <th>paper_id</th>\n",
              "      <th>title</th>\n",
              "      <th>abstract</th>\n",
              "      <th>abstract_summary</th>\n",
              "    </tr>\n",
              "  </thead>\n",
              "  <tbody>\n",
              "    <tr>\n",
              "      <th>coronaviruses covs are enveloped viruses with a positivesense singlestranded rna and are associated with various natural hosts covs are divided into alpha beta gamma and delta groups and the beta group is further composed of a b c and d subgroups fig 1a 1 among them six covs can infect humans hcovs including hcov229e 229e and hcovnl63 nl63 in the alpha group hcovoc43 oc43 and hcovhku1 hku1 in beta subgroup a severe acute respiratory syndrome cov sarscov in beta subgroup b and middle east respiratory syndrome cov merscov in beta subgroup c 2</th>\n",
              "      <td>c1a29945f51707d279560855da521ea878989333</td>\n",
              "      <td>A pan-coronavirus fusion inhibitor targeting&lt;...</td>\n",
              "      <td>continuously emerging highly pathogenic human ...</td>\n",
              "      <td>Continuously emerging highly pathogenic&lt;br&gt;hu...</td>\n",
              "    </tr>\n",
              "    <tr>\n",
              "      <th>in this century sarscov and merscov have emerged in the human population and caused severe pulmonary disease with alarmingly high casefatality rates in 2002 sarscov infections first appeared in china and then quickly spread as a global epidemic in more than 30 countries with 8273 infections and 775 deaths nearly 10 mortality 2  in 2012 merscov emerged in saudi arabia and spread throughout the middle east in 2015 the second pandemic of merscov occurred in south korea causing superspreading events with thirdand fourthgeneration cases of infection the world health organization has reported 2229 laboratoryconfirmed cases of merscov infection including 791 deaths about 35 case fatality in 27 countries as of august 2018 wwwwhointemergencies merscoven meanwhile the remaining common hcovs such as 229e oc43 and nl63 usually infect the human upper respiratory tract and cause the common cold but they also are responsible for severe and even fatal diseases in children elderly and immunocompromised patients 3 4 5  these scenarios suggest that those common hcovs might also pose a lethal threat to humans note that hcovs are rapidly evolving oc43 isolates with novel genomes are being continuously identified 6 7 8</th>\n",
              "      <td>c1a29945f51707d279560855da521ea878989333</td>\n",
              "      <td>A pan-coronavirus fusion inhibitor targeting&lt;...</td>\n",
              "      <td>continuously emerging highly pathogenic human ...</td>\n",
              "      <td>Continuously emerging highly pathogenic&lt;br&gt;hu...</td>\n",
              "    </tr>\n",
              "    <tr>\n",
              "      <th>the existence of sarslike cov slcov and merslike cov mlcov also pose great threats to public health worldwide recent studies identified some types of slcov such as slwiv1cov and slshc014cov whose spike s proteins highly resemble those of sarscov these slcovs could use the same sarscov receptor ie angiotensinconverting enzyme2 ace2 to directly enter permissive human cells without need for adaptation 9 10 11  in addition the mlcov tylonycteris bat cov hku4 was shown to recognize the merscov receptor cd26 and infect human cells either after introduction of two single mutations s746r and n762a into its s protein or with the help of exogenous protease 12 13  from a historical perspective zoonotic covs harbor a strong ability to cross species barriers to infect humans rapidly and unpredictably as illustrated by newly emerging hcovs 2 14  thus developing a specific drug that only targets a single hcov would be ineffective against newly emerging hcovs 9 10 11  since no broadspectrum antihcov drug is currently available for clinical use it is incumbent to search for a common or conserved target site based on existing hcovs</th>\n",
              "      <td>c1a29945f51707d279560855da521ea878989333</td>\n",
              "      <td>A pan-coronavirus fusion inhibitor targeting&lt;...</td>\n",
              "      <td>continuously emerging highly pathogenic human ...</td>\n",
              "      <td>Continuously emerging highly pathogenic&lt;br&gt;hu...</td>\n",
              "    </tr>\n",
              "    <tr>\n",
              "      <th>the s glycoprotein is a type i transmembrane glycoprotein that plays an important role in mediating viral infection and is common to all hcovs the s proteins consist of two subunits s1 and s2 fig 1b  the s1 subunit binds the cellular receptor through its receptorbinding domain rbd followed by conformational changes in the s2 subunit which allows the fusion peptide to insert into the host target cell membrane the heptad repeat 1 hr1 region in the s2 subunit forms a homotrimeric assembly which exposes three highly conserved hydrophobic grooves on the surface that bind heptad repeat 2 hr2 this sixhelix bundle 6hb core structure is formed during the fusion process and helps bring the viral and cellular membranes into close proximity for viral fusion and entry  fig 1b 15  thus the s protein is an important target protein for the development of specific drugs in particular the s1 rbd is a very good target site and both rbdspecific antibodies and rbdbased vaccines have previously exhibited effective antiviral activity or protective effect in blocking binding of virus to host receptors 16  however from an evolutionary perspective the rbd of cov is part of a highly mutable region and thus is not an ideal target site for broadspectrum antiviral inhibitor development 14  the sarscov rbdspecific antibody fm6 failed to block infection mediated by the s protein of slcovshc014 9 10 11 17  in contrast the hr region in the s2 subunit is conserved among various hcovs and plays a pivotal role in hcov infections by forming the 6hb that mediates viral fusion fig s1a furthermore the mode of interaction between hr1 and hr2 is conserved among covs such that residues located at the e and g positions in the hr1 helices interact with residues at the a and d positions in the hr2 helices fig s1b 18  previous studies have reported that peptides derived from the hr2 or cterminal hr region of class i viral fusion proteins from some enveloped viruses including hiv1 19 20 21  respiratory syncytial virus rsv 22  ebola virus 23  paramyxoviruses sv5 24  nipah virus 25  and murine hepatitis virus mhv 26  could competitively bind the viral hr1 or nterminal hr and effectively inhibit viral infection therefore it is reasonable to speculate that hr1 could also be a good target for the development of fusion inhibitors against highly pathogenic hcovs</th>\n",
              "      <td>c1a29945f51707d279560855da521ea878989333</td>\n",
              "      <td>A pan-coronavirus fusion inhibitor targeting&lt;...</td>\n",
              "      <td>continuously emerging highly pathogenic human ...</td>\n",
              "      <td>Continuously emerging highly pathogenic&lt;br&gt;hu...</td>\n",
              "    </tr>\n",
              "    <tr>\n",
              "      <th>we and others have reported that peptides derived from the hr2 regions of sarscov and merscov s proteins can competitively inhibit viral 6hb formation thereby preventing viral fusion and entry into host cells 18 27  for example the peptide cp1 derived from the sarscov spike protein hr2 region was able to inhibit sarscov entry in a manner similar to that of mershr2p against merscov infection 18 27  however we note that those peptides lack broadspectrum antiviral activity against heterologous hcovs for example cp1 and mershr2p peptides failed to crossinhibit merscov and sarscov infection respectively furthermore the cov fusion core hr regions can be divided into two groups 28 29  short hrs such as merscov sarscov and oc43 hrs and long hrs such as 229e and nl63 hrs the difference between short and long hrs arises from an insertion of 14 amino acids in the long hrs further increasing the difficulty in designing broadspectrum peptide fusion inhibitors to address this challenge we herein report the successful screening of a peptide oc43hr2p with broadspectrum fusion inhibitory activity furthermore a modified oc43hr2p peptide ek1 shows promising potency and breadth in inhibiting infection by multiple hcovs in vivo studies demonstrate that administration of ek1 via the nasal route exhibits highly protective effects and safety profiles highlighting its clinical potential moreover structural studies of ek1 in complex with hr1s from different hcovs explain the conserved basis for the hr1ek1 interaction further indicating that hr1 region could serve as a promising target site for the development of broadspectrum pancov fusion inhibitors</th>\n",
              "      <td>c1a29945f51707d279560855da521ea878989333</td>\n",
              "      <td>A pan-coronavirus fusion inhibitor targeting&lt;...</td>\n",
              "      <td>continuously emerging highly pathogenic human ...</td>\n",
              "      <td>Continuously emerging highly pathogenic&lt;br&gt;hu...</td>\n",
              "    </tr>\n",
              "  </tbody>\n",
              "</table>\n",
              "</div>"
            ],
            "text/plain": [
              "                                                                                    paper_id  ...                                   abstract_summary\n",
              "coronaviruses covs are enveloped viruses with a...  c1a29945f51707d279560855da521ea878989333  ...   Continuously emerging highly pathogenic<br>hu...\n",
              "in this century sarscov and merscov have emerge...  c1a29945f51707d279560855da521ea878989333  ...   Continuously emerging highly pathogenic<br>hu...\n",
              "the existence of sarslike cov slcov and merslik...  c1a29945f51707d279560855da521ea878989333  ...   Continuously emerging highly pathogenic<br>hu...\n",
              "the s glycoprotein is a type i transmembrane gl...  c1a29945f51707d279560855da521ea878989333  ...   Continuously emerging highly pathogenic<br>hu...\n",
              "we and others have reported that peptides deriv...  c1a29945f51707d279560855da521ea878989333  ...   Continuously emerging highly pathogenic<br>hu...\n",
              "\n",
              "[5 rows x 4 columns]"
            ]
          },
          "metadata": {
            "tags": []
          },
          "execution_count": 26
        }
      ]
    },
    {
      "cell_type": "code",
      "metadata": {
        "id": "S1D7L8w3TZpU",
        "colab_type": "code",
        "colab": {
          "base_uri": "https://localhost:8080/",
          "height": 379
        },
        "outputId": "07e5dfa1-8069-4b17-eae2-971d034676de"
      },
      "source": [
        "#https://github.com/UKPLab/sentence-transformers/blob/master/examples/application_semantic_search.py\n",
        "\"\"\"\n",
        "This is a simple application for sentence embeddings: semantic search\n",
        "We have a corpus with various sentences. Then, for a given query sentence,\n",
        "we want to find the most similar sentence in this corpus.\n",
        "This script outputs for various queries the top 5 most similar sentences in the corpus.\n",
        "\"\"\"\n",
        "\n",
        "from sentence_transformers import SentenceTransformer\n",
        "import scipy.spatial\n",
        "import pickle as pkl\n",
        "embedder = SentenceTransformer('bert-base-nli-mean-tokens')\n",
        "\n",
        "# Corpus with example sentences\n",
        "corpus = df_sentences_list\n",
        "corpus_embeddings = embedder.encode(corpus,show_progress_bar=True)\n",
        "with open(\"/content/drive/My Drive/BertSentenceSimilarity/Pickles/corpus_embeddings.pkl\" , \"rb\") as file_:\n",
        "  corpus_embeddings = pkl.load(file_)\n",
        "\n",
        "# Query sentences:\n",
        "queries = ['What has been published about medical care?',\n",
        "           'Knowledge of the frequency, manifestations, and course of extrapulmonary manifestations of COVID-19, including, but not limited to, possible cardiomyopathy and cardiac arrest',\n",
        "           'Use of AI in real-time health care delivery to evaluate interventions, risk factors, and outcomes in a way that could not be done manually',\n",
        "           'Resources to support skilled nursing facilities and long term care facilities.',\n",
        "           'Mobilization of surge medical staff to address shortages in overwhelmed communities .',\n",
        "           'Age-adjusted mortality data for Acute Respiratory Distress Syndrome (ARDS) with/without other organ failure – particularly for viral etiologies .']\n",
        "query_embeddings = embedder.encode(queries,show_progress_bar=True)\n",
        "\n",
        "# Find the closest 5 sentences of the corpus for each query sentence based on cosine similarity\n",
        "closest_n = 5\n",
        "print(\"\\nTop 5 most similar sentences in corpus:\")\n",
        "for query, query_embedding in zip(queries, query_embeddings):\n",
        "    distances = scipy.spatial.distance.cdist([query_embedding], corpus_embeddings, \"cosine\")[0]\n",
        "\n",
        "    results = zip(range(len(distances)), distances)\n",
        "    results = sorted(results, key=lambda x: x[1])\n",
        "\n",
        "    print(\"\\n\\n=========================================================\")\n",
        "    print(\"==========================Query==============================\")\n",
        "    print(\"===\",query,\"=====\")\n",
        "    print(\"=========================================================\")\n",
        "\n",
        "\n",
        "    for idx, distance in results[0:closest_n]:\n",
        "        print(\"Score:   \", \"(Score: %.4f)\" % (1-distance) , \"\\n\" )\n",
        "        print(\"Paragraph:   \", corpus[idx].strip(), \"\\n\" )\n",
        "        row_dict = df.loc[df.index== corpus[idx]].to_dict()\n",
        "        print(\"paper_id:  \" , row_dict[\"paper_id\"][corpus[idx]] , \"\\n\")\n",
        "        print(\"Title:  \" , row_dict[\"title\"][corpus[idx]] , \"\\n\")\n",
        "        print(\"Abstract:  \" , row_dict[\"abstract\"][corpus[idx]] , \"\\n\")\n",
        "        print(\"Abstract_Summary:  \" , row_dict[\"abstract_summary\"][corpus[idx]] , \"\\n\")\n",
        "        print(\"-------------------------------------------\")"
      ],
      "execution_count": 32,
      "outputs": [
        {
          "output_type": "error",
          "ename": "KeyboardInterrupt",
          "evalue": "ignored",
          "traceback": [
            "\u001b[0;31m---------------------------------------------------------------------------\u001b[0m",
            "\u001b[0;31mKeyboardInterrupt\u001b[0m                         Traceback (most recent call last)",
            "\u001b[0;32m<ipython-input-32-702dce64fd13>\u001b[0m in \u001b[0;36m<module>\u001b[0;34m()\u001b[0m\n\u001b[1;32m     13\u001b[0m \u001b[0;31m# Corpus with example sentences\u001b[0m\u001b[0;34m\u001b[0m\u001b[0;34m\u001b[0m\u001b[0;34m\u001b[0m\u001b[0m\n\u001b[1;32m     14\u001b[0m \u001b[0mcorpus\u001b[0m \u001b[0;34m=\u001b[0m \u001b[0mdf_sentences_list\u001b[0m\u001b[0;34m\u001b[0m\u001b[0;34m\u001b[0m\u001b[0m\n\u001b[0;32m---> 15\u001b[0;31m \u001b[0mcorpus_embeddings\u001b[0m \u001b[0;34m=\u001b[0m \u001b[0membedder\u001b[0m\u001b[0;34m.\u001b[0m\u001b[0mencode\u001b[0m\u001b[0;34m(\u001b[0m\u001b[0mcorpus\u001b[0m\u001b[0;34m,\u001b[0m\u001b[0mshow_progress_bar\u001b[0m\u001b[0;34m=\u001b[0m\u001b[0;32mTrue\u001b[0m\u001b[0;34m)\u001b[0m\u001b[0;34m\u001b[0m\u001b[0;34m\u001b[0m\u001b[0m\n\u001b[0m\u001b[1;32m     16\u001b[0m \u001b[0;32mwith\u001b[0m \u001b[0mopen\u001b[0m\u001b[0;34m(\u001b[0m\u001b[0;34m\"/content/drive/My Drive/BertSentenceSimilarity/Pickles/corpus_embeddings.pkl\"\u001b[0m \u001b[0;34m,\u001b[0m \u001b[0;34m\"rb\"\u001b[0m\u001b[0;34m)\u001b[0m \u001b[0;32mas\u001b[0m \u001b[0mfile_\u001b[0m\u001b[0;34m:\u001b[0m\u001b[0;34m\u001b[0m\u001b[0;34m\u001b[0m\u001b[0m\n\u001b[1;32m     17\u001b[0m   \u001b[0mcorpus_embeddings\u001b[0m \u001b[0;34m=\u001b[0m \u001b[0mpkl\u001b[0m\u001b[0;34m.\u001b[0m\u001b[0mload\u001b[0m\u001b[0;34m(\u001b[0m\u001b[0mfile_\u001b[0m\u001b[0;34m)\u001b[0m\u001b[0;34m\u001b[0m\u001b[0;34m\u001b[0m\u001b[0m\n",
            "\u001b[0;32m/usr/local/lib/python3.6/dist-packages/sentence_transformers/SentenceTransformer.py\u001b[0m in \u001b[0;36mencode\u001b[0;34m(self, sentences, batch_size, show_progress_bar, output_value, convert_to_numpy)\u001b[0m\n\u001b[1;32m    114\u001b[0m \u001b[0;34m\u001b[0m\u001b[0m\n\u001b[1;32m    115\u001b[0m         \u001b[0mall_embeddings\u001b[0m \u001b[0;34m=\u001b[0m \u001b[0;34m[\u001b[0m\u001b[0;34m]\u001b[0m\u001b[0;34m\u001b[0m\u001b[0;34m\u001b[0m\u001b[0m\n\u001b[0;32m--> 116\u001b[0;31m         \u001b[0mlength_sorted_idx\u001b[0m \u001b[0;34m=\u001b[0m \u001b[0mnp\u001b[0m\u001b[0;34m.\u001b[0m\u001b[0margsort\u001b[0m\u001b[0;34m(\u001b[0m\u001b[0;34m[\u001b[0m\u001b[0mlen\u001b[0m\u001b[0;34m(\u001b[0m\u001b[0msen\u001b[0m\u001b[0;34m)\u001b[0m \u001b[0;32mfor\u001b[0m \u001b[0msen\u001b[0m \u001b[0;32min\u001b[0m \u001b[0msentences\u001b[0m\u001b[0;34m]\u001b[0m\u001b[0;34m)\u001b[0m\u001b[0;34m\u001b[0m\u001b[0;34m\u001b[0m\u001b[0m\n\u001b[0m\u001b[1;32m    117\u001b[0m \u001b[0;34m\u001b[0m\u001b[0m\n\u001b[1;32m    118\u001b[0m         \u001b[0miterator\u001b[0m \u001b[0;34m=\u001b[0m \u001b[0mrange\u001b[0m\u001b[0;34m(\u001b[0m\u001b[0;36m0\u001b[0m\u001b[0;34m,\u001b[0m \u001b[0mlen\u001b[0m\u001b[0;34m(\u001b[0m\u001b[0msentences\u001b[0m\u001b[0;34m)\u001b[0m\u001b[0;34m,\u001b[0m \u001b[0mbatch_size\u001b[0m\u001b[0;34m)\u001b[0m\u001b[0;34m\u001b[0m\u001b[0;34m\u001b[0m\u001b[0m\n",
            "\u001b[0;32m/usr/local/lib/python3.6/dist-packages/sentence_transformers/SentenceTransformer.py\u001b[0m in \u001b[0;36m<listcomp>\u001b[0;34m(.0)\u001b[0m\n\u001b[1;32m    114\u001b[0m \u001b[0;34m\u001b[0m\u001b[0m\n\u001b[1;32m    115\u001b[0m         \u001b[0mall_embeddings\u001b[0m \u001b[0;34m=\u001b[0m \u001b[0;34m[\u001b[0m\u001b[0;34m]\u001b[0m\u001b[0;34m\u001b[0m\u001b[0;34m\u001b[0m\u001b[0m\n\u001b[0;32m--> 116\u001b[0;31m         \u001b[0mlength_sorted_idx\u001b[0m \u001b[0;34m=\u001b[0m \u001b[0mnp\u001b[0m\u001b[0;34m.\u001b[0m\u001b[0margsort\u001b[0m\u001b[0;34m(\u001b[0m\u001b[0;34m[\u001b[0m\u001b[0mlen\u001b[0m\u001b[0;34m(\u001b[0m\u001b[0msen\u001b[0m\u001b[0;34m)\u001b[0m \u001b[0;32mfor\u001b[0m \u001b[0msen\u001b[0m \u001b[0;32min\u001b[0m \u001b[0msentences\u001b[0m\u001b[0;34m]\u001b[0m\u001b[0;34m)\u001b[0m\u001b[0;34m\u001b[0m\u001b[0;34m\u001b[0m\u001b[0m\n\u001b[0m\u001b[1;32m    117\u001b[0m \u001b[0;34m\u001b[0m\u001b[0m\n\u001b[1;32m    118\u001b[0m         \u001b[0miterator\u001b[0m \u001b[0;34m=\u001b[0m \u001b[0mrange\u001b[0m\u001b[0;34m(\u001b[0m\u001b[0;36m0\u001b[0m\u001b[0;34m,\u001b[0m \u001b[0mlen\u001b[0m\u001b[0;34m(\u001b[0m\u001b[0msentences\u001b[0m\u001b[0;34m)\u001b[0m\u001b[0;34m,\u001b[0m \u001b[0mbatch_size\u001b[0m\u001b[0;34m)\u001b[0m\u001b[0;34m\u001b[0m\u001b[0;34m\u001b[0m\u001b[0m\n",
            "\u001b[0;31mKeyboardInterrupt\u001b[0m: "
          ]
        }
      ]
    },
    {
      "cell_type": "code",
      "metadata": {
        "id": "nC9iD0W1Tmtx",
        "colab_type": "code",
        "colab": {}
      },
      "source": [
        ""
      ],
      "execution_count": 0,
      "outputs": []
    }
  ]
}